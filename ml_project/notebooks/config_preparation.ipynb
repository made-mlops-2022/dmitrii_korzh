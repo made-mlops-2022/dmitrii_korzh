{
 "cells": [
  {
   "cell_type": "code",
   "execution_count": 1,
   "metadata": {},
   "outputs": [],
   "source": [
    "import logging\n",
    "import logging.config\n",
    "import json"
   ]
  },
  {
   "cell_type": "code",
   "execution_count": 2,
   "metadata": {},
   "outputs": [],
   "source": [
    "log_config = {\n",
    "    \"version\": 1,\n",
    "    \"formatters\": {\n",
    "        \"formatter_file\": {\n",
    "            \"format\": \"%(asctime)s\\t%(levelname)s\\t%(message)s\",\n",
    "        },\n",
    "        \"formatter_stream\": {\n",
    "            \"format\": \"%(asctime)s\\t%(name)s\\t%(levelname)s\\t%(message)s\",\n",
    "        },\n",
    "    },\n",
    "    \"handlers\": {\n",
    "        \"file_handler\": {\n",
    "            \"level\": \"DEBUG\",\n",
    "            \"class\": \"logging.FileHandler\",\n",
    "            \"filename\": \"log_file.log\",\n",
    "            \"formatter\": \"formatter_file\",\n",
    "        },\n",
    "        \"stream_handler\": {\n",
    "            \"level\": \"DEBUG\",\n",
    "            \"class\": \"logging.StreamHandler\",\n",
    "            \"formatter\": \"formatter_stream\",\n",
    "        },\n",
    "    },\n",
    "    \"loggers\": {\n",
    "        \"\": {\n",
    "            \"level\": \"DEBUG\",\n",
    "            \"handlers\": [\"file_handler\"],\n",
    "        },\n",
    "        \"stream_logger\": {\n",
    "            \"level\": \"DEBUG\",\n",
    "            \"handlers\": [\"stream_handler\"],\n",
    "        },\n",
    "    },\n",
    "}"
   ]
  },
  {
   "cell_type": "code",
   "execution_count": 4,
   "metadata": {},
   "outputs": [
    {
     "data": {
      "text/plain": [
       "'/Users/dmitrii/Desktop/MADE/dmitrii_korzh/ml_project/notebooks'"
      ]
     },
     "execution_count": 4,
     "metadata": {},
     "output_type": "execute_result"
    }
   ],
   "source": [
    "pwd"
   ]
  },
  {
   "cell_type": "code",
   "execution_count": 11,
   "metadata": {},
   "outputs": [
    {
     "name": "stdout",
     "output_type": "stream",
     "text": [
      "log.ini\n"
     ]
    }
   ],
   "source": [
    "!ls ../src/logs"
   ]
  },
  {
   "cell_type": "code",
   "execution_count": 12,
   "metadata": {},
   "outputs": [],
   "source": [
    "with open(\"../src/logs/train_log.json\", \"w\") as fp:\n",
    "    json.dump(log_config  , fp) "
   ]
  },
  {
   "cell_type": "code",
   "execution_count": 17,
   "metadata": {},
   "outputs": [],
   "source": [
    "from src.logs.return_log_config import return_predict_config"
   ]
  },
  {
   "cell_type": "code",
   "execution_count": 18,
   "metadata": {},
   "outputs": [],
   "source": [
    "conf = return_predict_config()"
   ]
  },
  {
   "cell_type": "code",
   "execution_count": 19,
   "metadata": {},
   "outputs": [],
   "source": [
    "# dict_log = json.loads(\"../src/logs/train_log.json\")\n"
   ]
  },
  {
   "cell_type": "code",
   "execution_count": 21,
   "metadata": {},
   "outputs": [
    {
     "name": "stdout",
     "output_type": "stream",
     "text": [
      "{'version': 1, 'formatters': {'formatter_file': {'format': '%(asctime)s\\t%(levelname)s\\t%(message)s'}, 'formatter_stream': {'format': '%(asctime)s\\t%(name)s\\t%(levelname)s\\t%(message)s'}}, 'handlers': {'file_handler': {'level': 'DEBUG', 'class': 'logging.FileHandler', 'filename': 'log_file_predict.log', 'formatter': 'formatter_file'}, 'stream_handler': {'level': 'DEBUG', 'class': 'logging.StreamHandler', 'formatter': 'formatter_stream'}}, 'loggers': {'': {'level': 'DEBUG', 'handlers': ['file_handler']}, 'stream_logger': {'level': 'DEBUG', 'handlers': ['stream_handler']}}}\n"
     ]
    }
   ],
   "source": [
    "print(conf)"
   ]
  },
  {
   "cell_type": "code",
   "execution_count": null,
   "metadata": {},
   "outputs": [],
   "source": []
  }
 ],
 "metadata": {
  "kernelspec": {
   "display_name": "Python 3.7.6 ('mlops1': venv)",
   "language": "python",
   "name": "python3"
  },
  "language_info": {
   "codemirror_mode": {
    "name": "ipython",
    "version": 3
   },
   "file_extension": ".py",
   "mimetype": "text/x-python",
   "name": "python",
   "nbconvert_exporter": "python",
   "pygments_lexer": "ipython3",
   "version": "3.7.6"
  },
  "orig_nbformat": 4,
  "vscode": {
   "interpreter": {
    "hash": "c7c72a0aa04c72a8375148be0dc7524d61edff35a8c0bae0174e8dec49d16908"
   }
  }
 },
 "nbformat": 4,
 "nbformat_minor": 2
}
