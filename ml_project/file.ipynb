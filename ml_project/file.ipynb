{
 "cells": [
  {
   "cell_type": "code",
   "execution_count": 2,
   "metadata": {},
   "outputs": [
    {
     "data": {
      "text/plain": [
       "4"
      ]
     },
     "execution_count": 2,
     "metadata": {},
     "output_type": "execute_result"
    }
   ],
   "source": [
    "2 + 2"
   ]
  },
  {
   "cell_type": "code",
   "execution_count": 3,
   "metadata": {},
   "outputs": [
    {
     "name": "stdout",
     "output_type": "stream",
     "text": [
      "Package           Version\n",
      "----------------- -------\n",
      "appnope           0.1.3\n",
      "backcall          0.2.0\n",
      "debugpy           1.6.3\n",
      "decorator         5.1.1\n",
      "entrypoints       0.4\n",
      "ipykernel         6.16.2\n",
      "ipython           7.34.0\n",
      "jedi              0.18.1\n",
      "jupyter_client    7.4.4\n",
      "jupyter_core      4.11.2\n",
      "matplotlib-inline 0.1.6\n",
      "nest-asyncio      1.5.6\n",
      "packaging         21.3\n",
      "parso             0.8.3\n",
      "pexpect           4.8.0\n",
      "pickleshare       0.7.5\n",
      "pip               22.3\n",
      "prompt-toolkit    3.0.31\n",
      "psutil            5.9.3\n",
      "ptyprocess        0.7.0\n",
      "Pygments          2.13.0\n",
      "pyparsing         3.0.9\n",
      "python-dateutil   2.8.2\n",
      "pyzmq             24.0.1\n",
      "setuptools        41.2.0\n",
      "six               1.16.0\n",
      "tornado           6.2\n",
      "traitlets         5.5.0\n",
      "wcwidth           0.2.5\n",
      "Note: you may need to restart the kernel to use updated packages.\n"
     ]
    }
   ],
   "source": [
    "pip list"
   ]
  },
  {
   "cell_type": "code",
   "execution_count": null,
   "metadata": {},
   "outputs": [],
   "source": []
  }
 ],
 "metadata": {
  "kernelspec": {
   "display_name": "Python 3.7.6 ('mlops1')",
   "language": "python",
   "name": "python3"
  },
  "language_info": {
   "codemirror_mode": {
    "name": "ipython",
    "version": 3
   },
   "file_extension": ".py",
   "mimetype": "text/x-python",
   "name": "python",
   "nbconvert_exporter": "python",
   "pygments_lexer": "ipython3",
   "version": "3.7.6"
  },
  "orig_nbformat": 4,
  "vscode": {
   "interpreter": {
    "hash": "cb404e160e5e49d419737d1d03415722d4d2cc572495b42e2a8b1f30015aeea0"
   }
  }
 },
 "nbformat": 4,
 "nbformat_minor": 2
}
